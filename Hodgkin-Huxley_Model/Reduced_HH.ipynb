{
  "nbformat": 4,
  "nbformat_minor": 0,
  "metadata": {
    "colab": {
      "provenance": []
    },
    "kernelspec": {
      "name": "python3",
      "display_name": "Python 3"
    },
    "language_info": {
      "name": "python"
    }
  },
  "cells": [
    {
      "cell_type": "code",
      "execution_count": null,
      "metadata": {
        "id": "BbyDzrip1toJ"
      },
      "outputs": [],
      "source": [
        "import numpy as np\n",
        "from scipy.integrate import solve_ivp\n",
        "import time\n",
        "import matplotlib.pyplot as plt\n",
        "import scipy.integrate as spi\n",
        "import sympy as sp\n",
        "from scipy.integrate import odeint\n",
        "from scipy.optimize import fsolve"
      ]
    },
    {
      "cell_type": "code",
      "source": [
        "## define parameters\n",
        "\n",
        "gK = 36\n",
        "gNa = 120\n",
        "gL = 0.3\n",
        "EK = -77\n",
        "ENa = 50\n",
        "EL = -54.4\n",
        "C = 1\n",
        "\n",
        "I = 0\n",
        "#I = 6\n",
        "#I = 25\n",
        "\n",
        "y0 = [-30,0.3]\n",
        "\n",
        "T = 50\n",
        "t0 = 0\n",
        "dt = 0.001\n",
        "tt = np.arange(t0, T, dt)"
      ],
      "metadata": {
        "id": "ScMgjeTxL422"
      },
      "execution_count": null,
      "outputs": []
    },
    {
      "cell_type": "code",
      "source": [
        "## define functions\n",
        "\n",
        "def HH_2D(y, t):\n",
        "\n",
        "    #parameters\n",
        "    v, n = y\n",
        "    alpha_n = 0.01*(55 + v)/(1- np.exp((-55 - v)/10))\n",
        "    beta_n = 0.0555*np.exp(-v/80)\n",
        "    n_inf = alpha_n / (alpha_n + beta_n)\n",
        "    tau_n = 1 / (alpha_n + beta_n)\n",
        "    alpha_m = 0.1*(40 + v)/(1 - np.exp((-40 - v)/10))\n",
        "    beta_m = 0.108*np.exp(-v/18)\n",
        "    m_inf = alpha_m / (alpha_m + beta_m)\n",
        "\n",
        "    #model\n",
        "    dv = (I - (gNa*(m_inf**3))*(0.8 - n)*(v - ENa) - (gK*(n**4)*(v - EK)) - gL*(v - EL))/C\n",
        "    dn = (n_inf - n) / tau_n\n",
        "    return np.array([dv, dn])\n",
        "\n",
        "\n",
        "def V_nullcline(v, n, I, gNa, ENa, gK, EK, gL, EL):\n",
        "    alpha_m = 0.1*(40 + v)/(1 - np.exp((-40 - v)/10))\n",
        "    beta_m = 0.108*np.exp(-v/18)\n",
        "    m = alpha_m / (alpha_m + beta_m)\n",
        "    return (I - gNa * m**3 * (0.8 - n) * (v - ENa) - gK * n**4 * (v - EK) - gL * (v - EL))\n",
        "\n",
        "def n_nullcline(v):\n",
        "    alpha_n = 0.01*(55 + v)/(1- np.exp((-55 - v)/10))\n",
        "    beta_n = 0.0555*np.exp(-v/80)\n",
        "    n = alpha_n / (alpha_n + beta_n)\n",
        "    return n\n",
        "\n",
        "# Generate V-n plane\n",
        "v_values = np.linspace(-100, 100 ,500)\n",
        "n_values = np.linspace(-0.1, 1, 500)\n",
        "V, N = np.meshgrid(v_values, n_values)\n",
        "\n",
        "# Calculate nullclines\n",
        "V_nc = V_nullcline(V, N, I, gNa, ENa, gK, EK, gL, EL)\n",
        "n_nc = n_nullcline(V)"
      ],
      "metadata": {
        "id": "GyWILUrG14aU"
      },
      "execution_count": null,
      "outputs": []
    },
    {
      "cell_type": "code",
      "source": [
        "## solve the system\n",
        "\n",
        "Y = spi.odeint(HH_2D, y0, tt)\n",
        "\n",
        "plt.plot(tt, Y[:,0],'r',label='V')\n",
        "plt.plot(tt, Y[:,1],'b',label='n')\n",
        "plt.xlabel('Time, ms')\n",
        "plt.title('Dynamics of reduced HH model for I = '+ str(I))\n",
        "plt.legend()\n"
      ],
      "metadata": {
        "id": "e8EocwRHMeIO"
      },
      "execution_count": null,
      "outputs": []
    },
    {
      "cell_type": "code",
      "source": [
        "## find an equlibrium point\n",
        "\n",
        "def HH_2D_equil(Y):\n",
        "\n",
        "    #parameters\n",
        "    v, n = Y\n",
        "    alpha_n = 0.01*(55 + v)/(1- np.exp((-55 - v)/10))\n",
        "    beta_n = 0.0555*np.exp(-v/80)\n",
        "    n_inf = alpha_n / (alpha_n + beta_n)\n",
        "    tau_n = 1 / (alpha_n + beta_n)\n",
        "    alpha_m = 0.1*(40 + v)/(1 - np.exp((-40 - v)/10))\n",
        "    beta_m = 0.108*np.exp(-v/18)\n",
        "    m_inf = alpha_m / (alpha_m + beta_m)\n",
        "\n",
        "    #model\n",
        "    dv = (I - (gNa*(m_inf**3))*(0.8 - n)*(v - ENa) - (gK*(n**4)*(v - EK)) - gL*(v - EL))/C\n",
        "    dn = (n_inf - n) / tau_n\n",
        "    return [dv, dn]\n",
        "\n",
        "v_eq, n_eq = fsolve(HH_2D_equil, y0)\n",
        "print(v_eq, n_eq)"
      ],
      "metadata": {
        "id": "YU9L7n_oNLqE"
      },
      "execution_count": null,
      "outputs": []
    },
    {
      "cell_type": "code",
      "source": [
        "## plot the phase portrait, nullclines and equilibrium point\n",
        "\n",
        "\n",
        "y1 = np.linspace(-100, 100, 30)\n",
        "y2 = np.linspace(0, 1.0, 30)\n",
        "Y1, Y2 = np.meshgrid(y1, y2)\n",
        "\n",
        "t = 0\n",
        "u, r = np.zeros(Y1.shape), np.zeros(Y2.shape)\n",
        "NI, NJ = Y1.shape\n",
        "\n",
        "for i in range(NI):\n",
        "    for j in range(NJ):\n",
        "        x = Y1[i, j]\n",
        "        y = Y2[i, j]\n",
        "        yprime = HH_2D_2([x, y], t)\n",
        "        u[i,j] = yprime[0]\n",
        "        r[i,j] = yprime[1]\n",
        "\n",
        "fig, ax = plt.subplots(figsize=(8, 6))\n",
        "ax.scatter(v_eq, n_eq, color='#66FF00', marker='*', s=500)\n",
        "Q = plt.quiver(Y1, Y2, u, r, color='#43BFC7', width=0.002)\n",
        "p = ax.plot(Y[:,0], Y[:,1],'k',label='Phase Portrait')\n",
        "c1 = ax.contour(V, N, V_nc, levels=[0], colors='blue')\n",
        "c2 = ax.contour(V, N, n_nc - N, levels=[0], colors='red')\n",
        "ax.clabel(c1, fmt='V nullcline', inline=True, fontsize=10, manual=[(50, 0.2)])\n",
        "ax.clabel(c2, fmt='n nullcline', inline=True, fontsize=10, manual=[(-75, 0.1)])\n",
        "ax.set_xlabel('Voltage (V)')\n",
        "ax.set_ylabel('n')\n",
        "ax.set_title('Nullclines of the System, I = '+ str(I))\n",
        "ax.legend()\n",
        "ax.grid(True)\n",
        "plt.show()"
      ],
      "metadata": {
        "id": "7XuT0nh-A_V9"
      },
      "execution_count": null,
      "outputs": []
    },
    {
      "cell_type": "code",
      "source": [
        "##  find Jacobian, Determinant and Trace\n",
        "\n",
        "v, n, I, gNa, ENa, gK, EK, gL, EL, C = sp.symbols('v, n, I, gNa, ENa, gK, EK, gL, EL, C')\n",
        "\n",
        "def HH_2D_sp(Y, t):\n",
        "    v, n = Y\n",
        "    alpha_n = 0.01*(55 + v)/(1- sp.exp((-55 - v)/10))\n",
        "    beta_n = 0.0555*sp.exp(-v/80)\n",
        "    n_inf = alpha_n / (alpha_n + beta_n)\n",
        "    tau_n = 1 / (alpha_n + beta_n)\n",
        "    alpha_m = 0.1*(40 + v)/(1 - sp.exp((-40 - v)/10))\n",
        "    beta_m = 0.108*sp.exp(-v/18)\n",
        "    m_inf = alpha_m / (alpha_m + beta_m)\n",
        "    dv = (I - (gNa*(m_inf**3))*(0.8 - n)*(v - ENa) - (gK*(n**4)*(v - EK)) - gL*(v - EL))/C\n",
        "    dn = (n_inf - n) / tau_n\n",
        "    return dv, dn\n",
        "\n",
        "\n",
        "\n",
        "t = np.arange(0, 400, 0.1)\n",
        "M = sp.Matrix(HH_2D_sp([v,n], t))\n",
        "Y = sp.Matrix([v, n])\n",
        "J = M.jacobian(Y)\n",
        "D = J.det()\n",
        "print(D)\n",
        "\n",
        "T = J.trace()\n",
        "\n",
        "val_num = { v:v_eq, n:n_eq, I:25, gNa:120, ENa:50, gK:36, EK:-77, gL:0.3, EL:-54.4, C:1}\n",
        "\n",
        "Determinant_at_equilibrium = D.subs(val_num)\n",
        "Trace_at_equilibrium = T.subs(val_num)\n",
        "print('det:',Determinant_at_equilibrium)\n",
        "print('tr:',Trace_at_equilibrium)"
      ],
      "metadata": {
        "id": "LXtKJTFq88zx"
      },
      "execution_count": null,
      "outputs": []
    }
  ]
}